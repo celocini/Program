{
 "cells": [
  {
   "cell_type": "markdown",
   "metadata": {},
   "source": [
    "# PYTHON "
   ]
  },
  {
   "cell_type": "markdown",
   "metadata": {},
   "source": [
    "## Guia McMc\n",
    "### CeloCini"
   ]
  },
  {
   "cell_type": "markdown",
   "metadata": {},
   "source": [
    "### FUNDAMENTOS E LISTAS"
   ]
  },
  {
   "cell_type": "code",
   "execution_count": 40,
   "metadata": {},
   "outputs": [],
   "source": [
    "# linhas que começam com # são 'comentários'\n",
    "# a linha abaixo cria o objeto x e atribui um valor a ele. \n",
    "# x também pode ser chamado de variável\n",
    "x = \"Ommmmmmmmmmmmm\""
   ]
  },
  {
   "cell_type": "code",
   "execution_count": 41,
   "metadata": {},
   "outputs": [
    {
     "name": "stdout",
     "output_type": "stream",
     "text": [
      "Ommmmmmmmmmmmm\n"
     ]
    }
   ],
   "source": [
    "# comando de 'impressão'\n",
    "print(x)"
   ]
  },
  {
   "cell_type": "code",
   "execution_count": 42,
   "metadata": {},
   "outputs": [
    {
     "name": "stdout",
     "output_type": "stream",
     "text": [
      "Digite o seu nome e pressione Enter: Celo Cini\n",
      "Vou junto com  Celo Cini  ! \n"
     ]
    }
   ],
   "source": [
    "# a função input 'interage' com o usuário, recebe um valor \n",
    "# neste exemplo este valor é atribuído ao 'nome'\n",
    "nome = input('Digite o seu nome e pressione Enter: ')\n",
    "# aqui o print irá 'juntar' (concatenar) um texto, variável, outro texto...\n",
    "print(\"Vou junto com \", nome, \" ! \")"
   ]
  },
  {
   "cell_type": "code",
   "execution_count": 4,
   "metadata": {},
   "outputs": [
    {
     "data": {
      "text/plain": [
       "['Terezo', 'Zoraio', 'Roso', 'Solango', 'Deboroh', 'Mariso', 'Marto', 'Zé']"
      ]
     },
     "execution_count": 4,
     "metadata": {},
     "output_type": "execute_result"
    }
   ],
   "source": [
    "primos = ['Terezo', 'Zoraio', 'Roso', 'Solango', 'Deboroh', 'Mariso', 'Marto', 'Zé']\n",
    "primos"
   ]
  },
  {
   "cell_type": "code",
   "execution_count": 5,
   "metadata": {},
   "outputs": [
    {
     "data": {
      "text/plain": [
       "8"
      ]
     },
     "execution_count": 5,
     "metadata": {},
     "output_type": "execute_result"
    }
   ],
   "source": [
    "# 'len' retorna o número de ítens da lista\n",
    "len(primos)"
   ]
  },
  {
   "cell_type": "code",
   "execution_count": 6,
   "metadata": {},
   "outputs": [
    {
     "data": {
      "text/plain": [
       "'Roso'"
      ]
     },
     "execution_count": 6,
     "metadata": {},
     "output_type": "execute_result"
    }
   ],
   "source": [
    "# listas possuem índices e eles começam em 0\n",
    "primos[2]"
   ]
  },
  {
   "cell_type": "code",
   "execution_count": 7,
   "metadata": {},
   "outputs": [
    {
     "data": {
      "text/plain": [
       "['Terezo', 'Zoraio', 'Roso', 'Solango', 'Deboroh']"
      ]
     },
     "execution_count": 7,
     "metadata": {},
     "output_type": "execute_result"
    }
   ],
   "source": [
    "# de 0 até 5 \n",
    "# observe que o índice 5 não é incluído\n",
    "primos[0:5]"
   ]
  },
  {
   "cell_type": "code",
   "execution_count": 8,
   "metadata": {},
   "outputs": [
    {
     "data": {
      "text/plain": [
       "['Terezo', 'Zoraio', 'Roso', 'Solango', 'Deboroh']"
      ]
     },
     "execution_count": 8,
     "metadata": {},
     "output_type": "execute_result"
    }
   ],
   "source": [
    "# se não especificado o início será 0\n",
    "primos[:5]"
   ]
  },
  {
   "cell_type": "code",
   "execution_count": 9,
   "metadata": {},
   "outputs": [
    {
     "data": {
      "text/plain": [
       "['Mariso', 'Marto', 'Zé']"
      ]
     },
     "execution_count": 9,
     "metadata": {},
     "output_type": "execute_result"
    }
   ],
   "source": [
    "primos[5:]"
   ]
  },
  {
   "cell_type": "code",
   "execution_count": 10,
   "metadata": {},
   "outputs": [
    {
     "data": {
      "text/plain": [
       "'Zé'"
      ]
     },
     "execution_count": 10,
     "metadata": {},
     "output_type": "execute_result"
    }
   ],
   "source": [
    "# o primeiro 'ao contrário' , ou seja, o último\n",
    "primos[-1]"
   ]
  },
  {
   "cell_type": "code",
   "execution_count": 11,
   "metadata": {},
   "outputs": [
    {
     "data": {
      "text/plain": [
       "['Terezo', 'Soraio', 'Roso', 'Solango', 'Deboroh', 'Mariso', 'Marto', 'Zé']"
      ]
     },
     "execution_count": 11,
     "metadata": {},
     "output_type": "execute_result"
    }
   ],
   "source": [
    "# alterando um item da lista\n",
    "primos[1] = 'Soraio'\n",
    "primos"
   ]
  },
  {
   "cell_type": "code",
   "execution_count": 12,
   "metadata": {},
   "outputs": [
    {
     "data": {
      "text/plain": [
       "['Terezo',\n",
       " 'Soraio',\n",
       " 'Roso',\n",
       " 'Solango',\n",
       " 'Deboroh',\n",
       " 'Mariso',\n",
       " 'Marto',\n",
       " 'Zé',\n",
       " 'Solango']"
      ]
     },
     "execution_count": 12,
     "metadata": {},
     "output_type": "execute_result"
    }
   ],
   "source": [
    "# incluindo um item no fim da lista\n",
    "primos.append('Solango')\n",
    "primos"
   ]
  },
  {
   "cell_type": "code",
   "execution_count": 13,
   "metadata": {},
   "outputs": [
    {
     "data": {
      "text/plain": [
       "9"
      ]
     },
     "execution_count": 13,
     "metadata": {},
     "output_type": "execute_result"
    }
   ],
   "source": [
    "# agora temos um item a mais\n",
    "len(primos)"
   ]
  },
  {
   "cell_type": "code",
   "execution_count": 14,
   "metadata": {},
   "outputs": [
    {
     "data": {
      "text/plain": [
       "['Deboroh',\n",
       " 'Mariso',\n",
       " 'Marto',\n",
       " 'Roso',\n",
       " 'Solango',\n",
       " 'Solango',\n",
       " 'Soraio',\n",
       " 'Terezo',\n",
       " 'Zé']"
      ]
     },
     "execution_count": 14,
     "metadata": {},
     "output_type": "execute_result"
    }
   ],
   "source": [
    "# classificando\n",
    "primos.sort()\n",
    "primos"
   ]
  },
  {
   "cell_type": "code",
   "execution_count": 15,
   "metadata": {},
   "outputs": [
    {
     "data": {
      "text/plain": [
       "['Zé',\n",
       " 'Terezo',\n",
       " 'Soraio',\n",
       " 'Solango',\n",
       " 'Solango',\n",
       " 'Roso',\n",
       " 'Marto',\n",
       " 'Mariso',\n",
       " 'Deboroh']"
      ]
     },
     "execution_count": 15,
     "metadata": {},
     "output_type": "execute_result"
    }
   ],
   "source": [
    "# ordem inversa\n",
    "primos.reverse()\n",
    "primos"
   ]
  },
  {
   "cell_type": "code",
   "execution_count": 16,
   "metadata": {},
   "outputs": [
    {
     "data": {
      "text/plain": [
       "['Zé',\n",
       " 'Terezo',\n",
       " 'Soraio',\n",
       " 'Solango',\n",
       " 'Eliano',\n",
       " 'Solango',\n",
       " 'Roso',\n",
       " 'Marto',\n",
       " 'Mariso',\n",
       " 'Deboroh']"
      ]
     },
     "execution_count": 16,
     "metadata": {},
     "output_type": "execute_result"
    }
   ],
   "source": [
    "# inserindo em uma posição específica\n",
    "primos.insert(4, 'Eliano')\n",
    "primos"
   ]
  },
  {
   "cell_type": "code",
   "execution_count": 17,
   "metadata": {},
   "outputs": [
    {
     "data": {
      "text/plain": [
       "10"
      ]
     },
     "execution_count": 17,
     "metadata": {},
     "output_type": "execute_result"
    }
   ],
   "source": [
    "# mais um\n",
    "len(primos)"
   ]
  },
  {
   "cell_type": "code",
   "execution_count": 18,
   "metadata": {},
   "outputs": [
    {
     "data": {
      "text/plain": [
       "['Zé',\n",
       " 'Terezo',\n",
       " 'Soraio',\n",
       " 'Solango',\n",
       " 'Eliano',\n",
       " 'Solango',\n",
       " 'Roso',\n",
       " 'Marto',\n",
       " 'Mariso']"
      ]
     },
     "execution_count": 18,
     "metadata": {},
     "output_type": "execute_result"
    }
   ],
   "source": [
    "# excluindo o último\n",
    "primos.pop()\n",
    "primos"
   ]
  },
  {
   "cell_type": "code",
   "execution_count": 19,
   "metadata": {},
   "outputs": [
    {
     "data": {
      "text/plain": [
       "['Zé', 'Terezo', 'Solango', 'Eliano', 'Solango', 'Roso', 'Marto', 'Mariso']"
      ]
     },
     "execution_count": 19,
     "metadata": {},
     "output_type": "execute_result"
    }
   ],
   "source": [
    "# excluindo um específico. lá se vai o Soraio\n",
    "primos.pop(2)\n",
    "primos"
   ]
  },
  {
   "cell_type": "code",
   "execution_count": 20,
   "metadata": {},
   "outputs": [
    {
     "data": {
      "text/plain": [
       "['Zé', 'Terezo', 'Solango', 'Eliano', 'Solango', 'Marto', 'Mariso']"
      ]
     },
     "execution_count": 20,
     "metadata": {},
     "output_type": "execute_result"
    }
   ],
   "source": [
    "# excluindo pelo 'valor'. tchau Roso\n",
    "primos.remove('Roso')\n",
    "primos"
   ]
  },
  {
   "cell_type": "code",
   "execution_count": 21,
   "metadata": {},
   "outputs": [
    {
     "data": {
      "text/plain": [
       "['Zé', 'Terezo', 'Eliano', 'Solango', 'Marto', 'Mariso']"
      ]
     },
     "execution_count": 21,
     "metadata": {},
     "output_type": "execute_result"
    }
   ],
   "source": [
    "# observe que apenas a primeira ocorrência é removida\n",
    "primos.remove('Solango')\n",
    "primos"
   ]
  },
  {
   "cell_type": "code",
   "execution_count": 22,
   "metadata": {},
   "outputs": [
    {
     "data": {
      "text/plain": [
       "['Eliano', 'Solango', 'Marto', 'Mariso']"
      ]
     },
     "execution_count": 22,
     "metadata": {},
     "output_type": "execute_result"
    }
   ],
   "source": [
    "# removendo vários. observe que esta função também desconsidera \n",
    "# o segundo 'indice', neste caso o 2\n",
    "del(primos[0:2])\n",
    "primos"
   ]
  },
  {
   "cell_type": "code",
   "execution_count": 23,
   "metadata": {},
   "outputs": [
    {
     "data": {
      "text/plain": [
       "False"
      ]
     },
     "execution_count": 23,
     "metadata": {},
     "output_type": "execute_result"
    }
   ],
   "source": [
    "# consultando a existência de um item\n",
    "'Roso' in primos"
   ]
  },
  {
   "cell_type": "code",
   "execution_count": 24,
   "metadata": {},
   "outputs": [
    {
     "data": {
      "text/plain": [
       "True"
      ]
     },
     "execution_count": 24,
     "metadata": {},
     "output_type": "execute_result"
    }
   ],
   "source": [
    "'Eliano' in primos"
   ]
  },
  {
   "cell_type": "code",
   "execution_count": 25,
   "metadata": {},
   "outputs": [
    {
     "data": {
      "text/plain": [
       "['Huga', 'Jorja', 'Olava', 'Humberta', 'Zéia', 'Huga', 'Olava', 'Huga']"
      ]
     },
     "execution_count": 25,
     "metadata": {},
     "output_type": "execute_result"
    }
   ],
   "source": [
    "primas = ['Huga', 'Jorja', 'Olava', 'Humberta', 'Zéia', 'Huga', 'Olava', 'Huga']\n",
    "primas"
   ]
  },
  {
   "cell_type": "code",
   "execution_count": 26,
   "metadata": {},
   "outputs": [
    {
     "data": {
      "text/plain": [
       "['Eliano',\n",
       " 'Solango',\n",
       " 'Marto',\n",
       " 'Mariso',\n",
       " 'Huga',\n",
       " 'Jorja',\n",
       " 'Olava',\n",
       " 'Humberta',\n",
       " 'Zéia',\n",
       " 'Huga',\n",
       " 'Olava',\n",
       " 'Huga']"
      ]
     },
     "execution_count": 26,
     "metadata": {},
     "output_type": "execute_result"
    }
   ],
   "source": [
    "# oia!!! que facilidade\n",
    "primxs = primos + primas\n",
    "primxs"
   ]
  },
  {
   "cell_type": "code",
   "execution_count": 27,
   "metadata": {},
   "outputs": [
    {
     "data": {
      "text/plain": [
       "3"
      ]
     },
     "execution_count": 27,
     "metadata": {},
     "output_type": "execute_result"
    }
   ],
   "source": [
    "# contar 'repetidos'\n",
    "primxs.count('Huga')"
   ]
  },
  {
   "cell_type": "code",
   "execution_count": 28,
   "metadata": {},
   "outputs": [
    {
     "data": {
      "text/plain": [
       "'Mari'"
      ]
     },
     "execution_count": 28,
     "metadata": {},
     "output_type": "execute_result"
    }
   ],
   "source": [
    "# retornar uma 'parte' de um item\n",
    "primxs[3][0:4]"
   ]
  },
  {
   "cell_type": "code",
   "execution_count": 29,
   "metadata": {},
   "outputs": [
    {
     "name": "stdout",
     "output_type": "stream",
     "text": [
      "140341289368256\n",
      "140341280541696\n",
      "140341280547136\n"
     ]
    }
   ],
   "source": [
    "# identificador único de cada objeto.\n",
    "print(id(primos))\n",
    "print(id(primas))\n",
    "print(id(primxs))"
   ]
  },
  {
   "cell_type": "code",
   "execution_count": 30,
   "metadata": {},
   "outputs": [
    {
     "name": "stdout",
     "output_type": "stream",
     "text": [
      "['W', 'Y', 'X', 'Z', 'A']\n",
      "['W', 'Y', 'X', 'Z', 'A']\n"
     ]
    }
   ],
   "source": [
    "# em várias situações precisaremos criar listas a partir de outras\n",
    "# desta forma 'igualamos' as listas 'eternamente' kkk é como de b fosse o apelido (alias) de a\n",
    "a = ['W','Y','X','Z']\n",
    "b = a\n",
    "a.append('A')\n",
    "print(a)\n",
    "print(b)"
   ]
  },
  {
   "cell_type": "code",
   "execution_count": 31,
   "metadata": {},
   "outputs": [
    {
     "data": {
      "text/plain": [
       "True"
      ]
     },
     "execution_count": 31,
     "metadata": {},
     "output_type": "execute_result"
    }
   ],
   "source": [
    "# veja que os objetos são 'o mesmo'\n",
    "a is b"
   ]
  },
  {
   "cell_type": "code",
   "execution_count": 32,
   "metadata": {},
   "outputs": [
    {
     "name": "stdout",
     "output_type": "stream",
     "text": [
      "['W', 'Y', 'X', 'Z', 'A']\n",
      "['W', 'Y', 'X', 'Z']\n"
     ]
    }
   ],
   "source": [
    "# agora as listas serão independentes\n",
    "a = ['W','Y','X','Z']\n",
    "b = a[:]\n",
    "a.append('A')\n",
    "print(a)\n",
    "print(b)"
   ]
  },
  {
   "cell_type": "code",
   "execution_count": 33,
   "metadata": {},
   "outputs": [
    {
     "data": {
      "text/plain": [
       "False"
      ]
     },
     "execution_count": 33,
     "metadata": {},
     "output_type": "execute_result"
    }
   ],
   "source": [
    "a is b"
   ]
  },
  {
   "cell_type": "code",
   "execution_count": 34,
   "metadata": {},
   "outputs": [
    {
     "data": {
      "text/plain": [
       "[2, 3, 7, 9, 4, 1, 2, 3, 7, 9, 4, 1, 2, 3, 7, 9, 4, 1]"
      ]
     },
     "execution_count": 34,
     "metadata": {},
     "output_type": "execute_result"
    }
   ],
   "source": [
    "# 'repetindo' a lista\n",
    "nums = [2,3,7,9,4,1]\n",
    "nums*3"
   ]
  },
  {
   "cell_type": "code",
   "execution_count": 35,
   "metadata": {},
   "outputs": [
    {
     "data": {
      "text/plain": [
       "[1, 'a', True, ['oli', 'ole', 'ola']]"
      ]
     },
     "execution_count": 35,
     "metadata": {},
     "output_type": "execute_result"
    }
   ],
   "source": [
    "# listas podem ser 'hibridas' e incluir sublistas\n",
    "lili = [1, 'a', True, ['oli', 'ole', 'ola']]\n",
    "lili"
   ]
  },
  {
   "cell_type": "code",
   "execution_count": 36,
   "metadata": {},
   "outputs": [
    {
     "data": {
      "text/plain": [
       "'ole'"
      ]
     },
     "execution_count": 36,
     "metadata": {},
     "output_type": "execute_result"
    }
   ],
   "source": [
    "lili[3][1]"
   ]
  },
  {
   "cell_type": "code",
   "execution_count": 37,
   "metadata": {},
   "outputs": [
    {
     "data": {
      "text/plain": [
       "['terei', 'futuro', 'deslizando', 'no', 'presente']"
      ]
     },
     "execution_count": 37,
     "metadata": {},
     "output_type": "execute_result"
    }
   ],
   "source": [
    "# criar lista a partir de string\n",
    "alceu_valeu = 'terei futuro deslizando no presente'\n",
    "alceu_valeu.split()"
   ]
  },
  {
   "cell_type": "code",
   "execution_count": 38,
   "metadata": {},
   "outputs": [
    {
     "data": {
      "text/plain": [
       "['memória', ' SSD', ' processador', ' cooler', ' bateria', ' teclado']"
      ]
     },
     "execution_count": 38,
     "metadata": {},
     "output_type": "execute_result"
    }
   ],
   "source": [
    "# usando um 'separador'\n",
    "estoque = 'memória, SSD, processador, cooler, bateria, teclado'\n",
    "estoque.split(',')"
   ]
  },
  {
   "cell_type": "code",
   "execution_count": 39,
   "metadata": {},
   "outputs": [
    {
     "data": {
      "text/plain": [
       "['memória', ' SSD', ' processador', ' cooler', ' bateria', ' teclado']"
      ]
     },
     "execution_count": 39,
     "metadata": {},
     "output_type": "execute_result"
    }
   ],
   "source": [
    "# criando lista baseada na variável 'string' usando split\n",
    "lista_estoque = estoque.split(',')\n",
    "lista_estoque"
   ]
  },
  {
   "cell_type": "markdown",
   "metadata": {},
   "source": [
    "### celocini@gmail.com"
   ]
  }
 ],
 "metadata": {
  "kernelspec": {
   "display_name": "Python 3",
   "language": "python",
   "name": "python3"
  },
  "language_info": {
   "codemirror_mode": {
    "name": "ipython",
    "version": 3
   },
   "file_extension": ".py",
   "mimetype": "text/x-python",
   "name": "python",
   "nbconvert_exporter": "python",
   "pygments_lexer": "ipython3",
   "version": "3.8.3"
  }
 },
 "nbformat": 4,
 "nbformat_minor": 4
}
